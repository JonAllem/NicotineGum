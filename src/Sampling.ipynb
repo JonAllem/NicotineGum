{
 "cells": [
  {
   "cell_type": "code",
   "execution_count": 1,
   "metadata": {},
   "outputs": [
    {
     "name": "stdout",
     "output_type": "stream",
     "text": [
      "<class 'pandas.core.frame.DataFrame'>\n",
      "Index: 16940 entries, 1488067098387566592 to 1609072910571814912\n",
      "Data columns (total 12 columns):\n",
      " #   Column                      Non-Null Count  Dtype  \n",
      "---  ------                      --------------  -----  \n",
      " 0   text                        16940 non-null  object \n",
      " 1   normalized_lemmatized_text  16940 non-null  object \n",
      " 2   original_topic              16940 non-null  int64  \n",
      " 3   original_topic_score        16940 non-null  float32\n",
      " 4   original_alt_topic_1        16940 non-null  int64  \n",
      " 5   original_alt_topic_score_1  16940 non-null  float32\n",
      " 6   original_alt_topic_2        16940 non-null  int64  \n",
      " 7   original_alt_topic_score_2  16940 non-null  float32\n",
      " 8   original_alt_topic_3        16940 non-null  int64  \n",
      " 9   original_alt_topic_score_3  16940 non-null  float32\n",
      " 10  original_alt_topic_4        16940 non-null  int64  \n",
      " 11  original_alt_topic_score_4  16940 non-null  float32\n",
      "dtypes: float32(5), int64(5), object(2)\n",
      "memory usage: 1.4+ MB\n"
     ]
    }
   ],
   "source": [
    "import pandas as pd\n",
    "data = pd.read_parquet('../data/modelled/modelled_nic_gums_tweets_2022.parquet')\n",
    "data.info()"
   ]
  },
  {
   "cell_type": "code",
   "execution_count": 11,
   "metadata": {},
   "outputs": [],
   "source": [
    "t_num = 3\n",
    "data[data.original_topic == t_num].text.sample(30 if sum(data.original_topic==t_num) >=30 else sum(data.original_topic==t_num)).to_clipboard()"
   ]
  },
  {
   "cell_type": "code",
   "execution_count": 2,
   "metadata": {},
   "outputs": [
    {
     "name": "stdout",
     "output_type": "stream",
     "text": [
      "0 @LexiApollo No. Chewing tobacco with nicotine is banned in MLB. They figured out what it does even to healthy athletes. That’s bubble gum Raffy was chawing on. Old pics of ball players in the dugout and smoking just freak me out! My favorite player, Pudge Fisk, was a tobacco chewer.\n",
      "1 Nicotine is not the new Crack. You can get nicotine gum, but there's is no Crack gum. Once you on that Crack you can't go back. #crackisstillwhack\n",
      "2 @dyadriver Do we think it’s nicotine gum bc that’s even hotter somehow\n",
      "3 Someone earning 100k per year is considered rich already? What are you smoking? Probably too much nicotine gum.\n",
      "4 @TheFeedWithDrG @SammyG_MD places \"they can't smoke, but they can vape\"\n",
      "\"make it harder for them to quit down the road\"\n",
      "\"less likely to quit nicotine\" than patch or gum ??\n",
      "????????????\"gateway\" ????????????\n",
      "many \"will eventually graduate\" ??\n",
      "\"interferes with teenage brain development\" ??\n",
      "\n",
      "Continued\n",
      "5 when i was 18 i caught my dawg buying nicotine gum up at the local gas station…. ain’t talked to him since\n",
      "6 My maternal grandmother is over here and my mom and her are smoking on the balcony and half the fucking apartment just smells like cigarettes, god i want to buy my mom nicotine gum for christmas so she can take a fucking hint\n",
      "7 gonna start chewing nicotine gum so she’ll get addicted to my kisses???????\n",
      "8 @BeauInMaryland @histofarch @LindsayJS I was just saying how crazy it was that I'm 44  but they still will not let anyone in my party buy either alcohol or nicotine gum w/o my ID. They've gotten way more strict than when I was a kid & used both, I only had to be 16 to??then. I guess it's good but sucks for kids today.\n",
      "9 @AsianDawn4 He stealing cigarettes and nicotine gum wtf is going on\n",
      "10 when ur mom gets u nicotine gum\n",
      "11 @Mr___Bone A non-believer would call this a coincidence but I don’t believe in coincidences anymore \n",
      "\n",
      "Those who follow me daily & are blessed w/ sharp memories will recall: what did I “randomly” do 2 days before getting sick? \n",
      "\n",
      "Bought 2 boxes of nicotine gum for the first time in 10 years??\n",
      "12 - every single fucking paycheck and works like two hours on Fridays. \n",
      "\n",
      "And then today I pulled something off that was stuck to my keyboard just BEFORE realizing it’s my coworker’s fucking nicotine gum and I just touched it with my bare hands.\n",
      "13 My line of credit went non existent. Might start smoking again. Cheaper than nicotine chewing gums or tablets. Will think about it.\n",
      "14 @padspoker Food? Nicotine gum & pink cocaine…that’s how you win tournies!\n",
      "15 I could make a post saying “I would rather eat coochie hair than chew nicotine gum” and there would inevitably be a comment like “my aunt OD’d on coochie hair, choose better words” ????\n",
      "16 Really, the only reason I’m afraid of the prospect of getting addicted to nicotine gum is simply convenience and cost; it’s not exactly the cheapest item to buy. And if I got hooked, and, at some point in the future, some disaster happened, I lost my job, or whatever, I’d have no\n",
      "17 @HoodBitcoin @stillgray They are stealing cigarettes and nicotine gum. wtf are you talking about\n",
      "18 Getting assaulted in the head with a handbag made me realise I don't celebrate myself, my wins - enough.\n",
      "\n",
      "I stopped smoking, it wasn't easy. Even the nicotine chewing gum was hard - goneskis. Yay?? \n",
      "\n",
      "It's ok to be proud of yourself.\n",
      "19 If your s/o doesn’t do nicotine, chew nicotine gum, that person will suddenly get cravings and the only way to stop it is by kissing you. And if you break up, they can’t get a fix.\n",
      "20 @SILVERT0NGUES91 or maybe some nicotine gum\n",
      "21 gonna chew nicotine gum so she gets addicted to kissing me\n",
      "22 How Long Gone #329: @themjeans and I chat with Jess Damuck about the “Grammy’s Cough,” garden party chaos, working for Marta Stewart, melon balls over ice, nicotine gum, meditative cooking with intention, plating on mushrooms, and Jess’ love of Morrissey — https://t.co/GIipi6wPBJ\n",
      "23 @deandelray First white comic on Def Jam. Last Comic Standing and nothing else last 20 years. Can he say, irrelevant with out spitting out his Nicotine gum. Stool comic.\n",
      "24 @jadler1969 @asymmetricinfo @FDA It’s not just the nicotine. It’s the “targeting the product at kids” thing. \n",
      "\n",
      "When you have “bubble gum” as a “flavor” and the majority of your customers are underage, that’s not an issue?\n",
      "25 @BigRedCeltTT My mom was a heavy smoker, 4 packs a day. She stopped in one day and started with the gum. She said it had a bigger nicotine impact, stronger than cigarettes without the tar. I tried to get her to quit for decades. Good luck. I wish you all the best. She saved a ton of money!\n",
      "26 I wonder if nicotine gum would be a wise investment for my desk\n",
      "27 Saw a commercial for something called \"Blue Chew\" thinking it was some kind of nicotine gum or something.\n",
      "\n",
      "It's not.\n",
      "\n",
      "It's just chewable viagra.\n",
      "\n",
      "The commercial implied that a UFC fighter has a constantly limp dick.\n",
      "\n",
      "What was the name again? Max Something?\n",
      "28 Imagine having a podcast. Except there is no mic. No audience. And you don't have a mouth. Except, you are hearing some one intermittent think. Is that my voice telling me to stop chewing nicotine gum? Again? Again? On repeat. This is like being me. Except  there no one listening\n",
      "29 @AJD1667 @delsharkart Right? It has shown all throughout the comic so far, with this, or also the nicotine gum (and his concerns about Art's gills clogging)... I feel we all need a Scott in our lives?! ??\n"
     ]
    }
   ],
   "source": [
    "for i, x in enumerate(data[data.original_topic.isin([8, 18, 21, 24, 25, 28, 30, 40, 46, 50, 55])].text.sample(30)): print(i,x)"
   ]
  },
  {
   "cell_type": "code",
   "execution_count": 5,
   "metadata": {},
   "outputs": [],
   "source": [
    "data[data.original_topic.isin([8, 18, 21, 24, 25, 28, 30, 40, 46, 50, 55])].text.sample(30).to_clipboard()"
   ]
  }
 ],
 "metadata": {
  "kernelspec": {
   "display_name": "nicotine_gum",
   "language": "python",
   "name": "python3"
  },
  "language_info": {
   "codemirror_mode": {
    "name": "ipython",
    "version": 3
   },
   "file_extension": ".py",
   "mimetype": "text/x-python",
   "name": "python",
   "nbconvert_exporter": "python",
   "pygments_lexer": "ipython3",
   "version": "3.10.4"
  },
  "orig_nbformat": 4
 },
 "nbformat": 4,
 "nbformat_minor": 2
}
